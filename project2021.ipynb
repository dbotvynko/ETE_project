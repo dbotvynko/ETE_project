{
 "cells": [
  {
   "cell_type": "markdown",
   "metadata": {},
   "source": [
    "The aim of this notebook is twofold: \n",
    "- introduce or recall Mixed Integer Linear Programming and \n",
    "- introduce the project of the module, inspired from a problem you already seen : Energy MultiAnnual Planning in \"La Réunion\" island.\n",
    "\n",
    "First steps will help you reconnect with Mixed Integer Linear Programming (MILP) and associated tool *pulp* as an optimisation technique and tool.  \n",
    "\n",
    "<!-- To begin with, an equivalent to the Excel Sheet you manipulated will be implemented. The project will then be to extend the problem, several options are welcome :\n",
    "- make the problem definition more realistic,\n",
    "- move on to devising the best energy production items,\n",
    "- ...\n",
    " -->\n",
    " \n",
    "Please, keep in mind that MILP is not the only technique you should be aware of. Depending on your choices, MILP may not be the best option to implement your version of the problem. Constraint Programming or metaheuristics may be best suited to it. Other notebooks are provided to help you discover or rediscover those techniques and associated tools. Be sure to make a good, arguable choice to implement your version of the problem. \n",
    "\n",
    "> During this session, we will use *IPython Notebook*. The current webpage embeds a Python interpreter. Each cell may be either text (Markdown) or code (Python) to be executed. All cells may be edited (double-click) and transformed (`Maj+Enter`) into text or passed to the interpreter. The result given by the interpreter and possible graphical representations appear below.\n",
    "\n",
    "Note that:\n",
    "- the current file is automatically saved as you work;\n",
    "- you may add cells with the `+` icon and choose their type (code or Markdown) in the corresponding drop menu.\n",
    "- some code cells contain a solution proposition, use them only after trying by yourself\n"
   ]
  },
  {
   "cell_type": "markdown",
   "metadata": {},
   "source": [
    "\n",
    "# Linear (and Mixed-Integer Linear) Programming introduction\n",
    "\n",
    "We will use and import the `pulp` library. `pulp` gives access to a mixed-integer linear programming API that we will use. A free open-source solver named `coin` is embedded within the package, but it is also possible to bind commercial solvers like CPLEX or GUROBI. Ask your instructor if need be.\n",
    "\n",
    "Click on the cell and `Ctrl+Enter` to execute the Python command.\n",
    "\n",
    "The following cell contains some imports that are needed to prepare the environment (please note it needs to be reexecuted if the kernel is restarted, before being able to run further cells)"
   ]
  },
  {
   "cell_type": "code",
   "execution_count": 1,
   "metadata": {},
   "outputs": [],
   "source": [
    "# PuLP is the MILP tool we use here \n",
    "import pulp\n",
    "\n",
    "# Regular imports for plotting\n",
    "%matplotlib inline\n",
    "import matplotlib.pyplot as plt\n",
    "\n",
    "# numpy always helps!\n",
    "import numpy as np"
   ]
  },
  {
   "cell_type": "markdown",
   "metadata": {},
   "source": [
    "## Linear Programming"
   ]
  },
  {
   "cell_type": "markdown",
   "metadata": {},
   "source": [
    "# Etude de cas optimisation sous contraintes"
   ]
  },
  {
   "cell_type": "markdown",
   "metadata": {},
   "source": [
    "## Power range"
   ]
  },
  {
   "cell_type": "code",
   "execution_count": 2,
   "metadata": {},
   "outputs": [],
   "source": [
    "import pandas as pd"
   ]
  },
  {
   "cell_type": "code",
   "execution_count": 3,
   "metadata": {},
   "outputs": [],
   "source": [
    "from pandas import DataFrame"
   ]
  },
  {
   "cell_type": "code",
   "execution_count": 4,
   "metadata": {},
   "outputs": [
    {
     "name": "stdout",
     "output_type": "stream",
     "text": [
      "              bagasse1  bagasse2  bagasse3  hydro  solaire  bio  eolien  \\\n",
      "Pmin                10        10        10      0        0    0       0   \n",
      "Pmax                33        33        33    134      115    4      16   \n",
      "durationMIN          6         6         6      0        0    0       0   \n",
      "costMarginal        40        40        40      0        0    0       0   \n",
      "costStartUp      50000     50000     50000      0        0    0       0   \n",
      "\n",
      "              importNord  \n",
      "Pmin                -100  \n",
      "Pmax                 100  \n",
      "durationMIN            0  \n",
      "costMarginal           0  \n",
      "costStartUp            0  \n",
      "              bagasse1  bagasse2  bagasse3  TAC1  TAC2  diesel1  diesel2  \\\n",
      "Pmin                10        10        10    15    15        0        0   \n",
      "Pmax                37        37        37    40    40       18       18   \n",
      "durationMIN          6         6         6     1     1        1        1   \n",
      "costMarginal        40        40        40   150   150       80       80   \n",
      "costStartUp         40        40        40  2000  2000     1000     1000   \n",
      "\n",
      "              diesel3  diesel4  diesel5  diesel6  diesel7  diesel8  diesel9  \\\n",
      "Pmin                0        0        0        0        0        0        0   \n",
      "Pmax               18       18       18       18       18       18       18   \n",
      "durationMIN         1        1        1        1        1        1        1   \n",
      "costMarginal       80       80       80       80       80       80       80   \n",
      "costStartUp      1000     1000     1000     1000     1000     1000     1000   \n",
      "\n",
      "              diesel10  diesel11  diesel12  solaire  importSud  \n",
      "Pmin                 0         0         0        0       -100  \n",
      "Pmax                18        18        18       58        100  \n",
      "durationMIN          1         1         1        0          0  \n",
      "costMarginal        80        80        80        0          0  \n",
      "costStartUp       1000      1000      1000        0          0  \n"
     ]
    }
   ],
   "source": [
    "centralesSUD = ['bagasse1', 'bagasse2', 'bagasse3', 'hydro', 'solaire', 'bio', 'eolien', 'importNord']\n",
    "\n",
    "\n",
    "# euros / MWh - coûts marginaux\n",
    "costSUD = 3*[40] + 4*[0] + [0]\n",
    "\n",
    "# euros / MWh - coûts de démarrage\n",
    "costSUD_startup = 3*[50000] + 4*[0] + [0] \n",
    " \n",
    "\n",
    "dataSUD = pd.DataFrame([[10, 10, 10, 0, 0, 0, 0, -100], [33, 33, 33, 134, 115, 4, 16, 100], [6, 6, 6, 0, 0, 0, 0, 0], costSUD, costSUD_startup], \n",
    "                       columns = centralesSUD, index = ['Pmin', 'Pmax', 'durationMIN', 'costMarginal', 'costStartUp'])\n",
    "print(dataSUD)\n",
    "\n",
    "minNORD = 3*[10] + 2*[15] + 12*[0] + [0] + [-100]\n",
    "maxNORD = 3*[37] + 2*[40] + 12*[18] + [58] + [100]\n",
    "\n",
    "durationMIN_NORD = 3*[6] + 2*[1] + 12*[1] + [0] + [0]\n",
    "\n",
    "# euros / MWh - coûts marginaux\n",
    "costNORD = 3*[40] + 2*[150] + 12*[80] + [0] + [0]\n",
    "\n",
    "# euros / MWh - coûts démarrage\n",
    "costNORD_startup = 3*[40] + 2*[2000] + 12*[1000] + [0] + [0]\n",
    "\n",
    "centralesNORD = ['bagasse1', 'bagasse2', 'bagasse3', 'TAC1', 'TAC2', 'diesel1', 'diesel2', 'diesel3', 'diesel4', 'diesel5', \n",
    "                 'diesel6', 'diesel7', 'diesel8', 'diesel9', 'diesel10', 'diesel11', 'diesel12', 'solaire', 'importSud']\n",
    "\n",
    "dataNORD = pd.DataFrame([minNORD, maxNORD, durationMIN_NORD, costNORD, costNORD_startup], \n",
    "                        columns = centralesNORD, index = ['Pmin', 'Pmax', 'durationMIN', 'costMarginal', 'costStartUp'])\n",
    "print(dataNORD)"
   ]
  },
  {
   "cell_type": "markdown",
   "metadata": {},
   "source": [
    "## Costs"
   ]
  },
  {
   "cell_type": "code",
   "execution_count": 5,
   "metadata": {},
   "outputs": [],
   "source": [
    "cost1_1 = 15\n",
    "cost1_2 = 45\n",
    "cost1_3 = 50\n",
    "cost1_4 = 10\n",
    "cost1_5 = 50\n",
    "\n",
    "cost2_1 = 15\n",
    "cost2_2 = 45\n",
    "cost2_3 = 50\n",
    "cost2_4 = 12"
   ]
  },
  {
   "cell_type": "markdown",
   "metadata": {},
   "source": [
    "## Durée marche arrêt"
   ]
  },
  {
   "cell_type": "code",
   "execution_count": null,
   "metadata": {},
   "outputs": [],
   "source": []
  },
  {
   "cell_type": "markdown",
   "metadata": {},
   "source": [
    "## Capacity total"
   ]
  },
  {
   "cell_type": "code",
   "execution_count": 6,
   "metadata": {},
   "outputs": [],
   "source": [
    "cap1_1 = 100\n",
    "cap1_2 = 134\n",
    "cap1_3 = 115\n",
    "cap1_4 = 4\n",
    "cap1_5 = 16\n",
    "\n",
    "cap2_1 = 111\n",
    "cap2_2 = 80\n",
    "cap2_3 = 216\n",
    "cap2_4 = 58"
   ]
  },
  {
   "cell_type": "markdown",
   "metadata": {},
   "source": [
    "## Demand"
   ]
  },
  {
   "cell_type": "code",
   "execution_count": 7,
   "metadata": {},
   "outputs": [
    {
     "name": "stdout",
     "output_type": "stream",
     "text": [
      "20\n",
      "108.90945\n",
      "20\n",
      "133.11155\n"
     ]
    },
    {
     "data": {
      "text/plain": [
       "[<matplotlib.lines.Line2D at 0x1adbf930a00>,\n",
       " <matplotlib.lines.Line2D at 0x1adbf930af0>]"
      ]
     },
     "execution_count": 7,
     "metadata": {},
     "output_type": "execute_result"
    },
    {
     "data": {
      "image/png": "[encoded data removed]",
      "text/plain": [
       "<Figure size 432x288 with 1 Axes>"
      ]
     },
     "metadata": {
      "needs_background": "light"
     },
     "output_type": "display_data"
    }
   ],
   "source": [
    "# demand expressed hour by hour\n",
    "demand_Nord = [116.3034, 113.25285, 108.90945, 104.8626, 110.655, 120.4857, 129.7341, 137.4372, 145.0116,\n",
    "142.57845, 136.7397, 131.5557, 128.9304, 128.38455, 130.7223, 136.7514, 154.4481, 156.0933, 155.4471, 159.732] # change the values so they are relevant to yours\n",
    "\n",
    "print(len(demand_Nord))\n",
    "print(demand_Nord[2])\n",
    "\n",
    "demand_Sud = [142.1486, 138.42015, 133.11155, 128.1654, 135.245, 147.2603, 158.5639, 167.9788, 177.2364, 174.26255, 167.1263,\n",
    "160.7903, 157.5816, 156.91445, 159.7717, 167.1406, 188.7699, 190.7807, 189.9909, 195.228] # change the values so they are relevant to yours\n",
    "\n",
    "print(len(demand_Sud))\n",
    "print(demand_Sud[2])\n",
    "\n",
    "# a simple graphical visualisation of the demand\n",
    "plt.plot(demand_Nord,'b', demand_Sud, 'r')"
   ]
  },
  {
   "cell_type": "markdown",
   "metadata": {},
   "source": [
    "## Variables"
   ]
  },
  {
   "cell_type": "code",
   "execution_count": 8,
   "metadata": {},
   "outputs": [
    {
     "data": {
      "text/plain": [
       "[[0, 0, 0, 0, 0, 0, 0, 0, 0, 0, 0, 0, 0, 0, 0, 0, 0, 0, 0, 0],\n",
       " [0, 0, 0, 0, 0, 0, 0, 0, 0, 0, 0, 0, 0, 0, 0, 0, 0, 0, 0, 0],\n",
       " [0, 0, 0, 0, 0, 0, 0, 0, 0, 0, 0, 0, 0, 0, 0, 0, 0, 0, 0, 0],\n",
       " [0, 0, 0, 0, 0, 0, 0, 0, 0, 0, 0, 0, 0, 0, 0, 0, 0, 0, 0, 0],\n",
       " [0, 0, 0, 0, 0, 0, 0, 0, 0, 0, 0, 0, 0, 0, 0, 0, 0, 0, 0, 0],\n",
       " [0, 0, 0, 0, 0, 0, 0, 0, 0, 0, 0, 0, 0, 0, 0, 0, 0, 0, 0, 0],\n",
       " [0, 0, 0, 0, 0, 0, 0, 0, 0, 0, 0, 0, 0, 0, 0, 0, 0, 0, 0, 0]]"
      ]
     },
     "execution_count": 8,
     "metadata": {},
     "output_type": "execute_result"
    }
   ],
   "source": [
    "xSUD = 7*[20*[0]]\n",
    "xSUD"
   ]
  },
  {
   "cell_type": "code",
   "execution_count": 22,
   "metadata": {},
   "outputs": [
    {
     "name": "stdout",
     "output_type": "stream",
     "text": [
      "20\n",
      "[onNord_4_1, onNord_4_2, onNord_4_3, onNord_4_4, onNord_4_5, onNord_4_6, onNord_4_7, onNord_4_8, onNord_4_9, onNord_4_10, onNord_4_11, onNord_4_12, onNord_4_13, onNord_4_14, onNord_4_15, onNord_4_16, onNord_4_17, onNord_4_18, onNord_4_19, onNord_4_20]\n"
     ]
    }
   ],
   "source": [
    "# x1_i - sud\n",
    "# x2_j - nord\n",
    "\n",
    "xSUD = 8*[20*[0]]  # 7 moyens de prod et 20 heures dans la journée choisie\n",
    "\n",
    "for k in range(8):\n",
    "    xSUD[k] = [pulp.LpVariable(\"xSUD_\" + dataSUD.columns[k] + \"_\" + f\"{i + 1}\", dataSUD[dataSUD.columns[k]]['Pmin'], dataSUD[dataSUD.columns[k]]['Pmax']) for i in range(0, len(demand_Sud))]\n",
    "\n",
    "print(len(xSUD[3]))  # hydro1 pour 20 heures pour SUD\n",
    "\n",
    "xNORD = 19*[20*[0]]  # 18 moyens de prod et 20 heures dans la journée choisie\n",
    "\n",
    "for k in range(19):\n",
    "    xNORD[k] = [pulp.LpVariable(\"xNORD_\" + dataNORD.columns[k] + \"_\" + f\"{i + 1}\", dataNORD[dataNORD.columns[k]]['Pmin'], dataNORD[dataNORD.columns[k]]['Pmax']) for i in range(0, len(demand_Nord))]\n",
    "\n",
    "onSud = 7*[20*[0]]\n",
    "    \n",
    "for i in range(0, 7):\n",
    "    onSud[i] = [pulp.LpVariable(f\"onSud_{i}_{t + 1}\", cat=pulp.LpBinary) for t in range(0,len(demand_Sud))]\n",
    "\n",
    "onNord = 18*[20*[0]]\n",
    "    \n",
    "for i in range(0, 18):\n",
    "    onNord[i] = [pulp.LpVariable(f\"onNord_{i}_{t + 1}\", cat=pulp.LpBinary) for t in range(0,len(demand_Nord))]\n",
    "    \n",
    "    \n",
    "print(onNord[4])  # TAC2 pour 20 heures pour NORD"
   ]
  },
  {
   "cell_type": "markdown",
   "metadata": {},
   "source": [
    "## Constraints"
   ]
  },
  {
   "cell_type": "code",
   "execution_count": 35,
   "metadata": {},
   "outputs": [],
   "source": [
    "probNew = pulp.LpProblem(\"binetwork\", pulp.LpMinimize)\n",
    "\n",
    "# x1_i - sud\n",
    "# x2_j - nord\n",
    "# importSud = - importNord\n",
    "# X1 < 265 MW\n",
    "# X2 < 217 MW\n",
    "\n",
    "#prob += x1_1 + x1_2 + x1_3 + x1_4 + x1_5 >= demand_Sud\n",
    "#prob += x2_1 + x2_2 + x2_3 + x2_4 >= demand_Nord\n",
    "\n",
    "prodTOTAL_SUD = 0\n",
    "prodTOTAL_NORD = 0\n",
    "\n",
    "\n",
    "for i in range(0, len(demand_Sud)):\n",
    "    probNew += xSUD[0][i] + xSUD[1][i] + xSUD[2][i] + xSUD[3][i] + xSUD[4][i] + xSUD[5][i] + xSUD[6][i] + xSUD[7][i] >= demand_Sud[i]\n",
    "    \n",
    "for i in range(0, len(demand_Nord)):\n",
    "    probNew += xNORD[0][i] + xNORD[1][i] + xNORD[2][i] + xNORD[3][i] + xNORD[4][i] + xNORD[5][i] + xNORD[6][i] + xNORD[7][i] >= demand_Nord[i]\n",
    "            \n",
    "for i in range(0, len(demand_Nord)):\n",
    "    probNew += xSUD[7][i] + xNORD[18][i] == 0\n",
    "\n",
    "\n",
    "       \n",
    "probNew += sum(dataSUD[dataSUD.columns[j]]['costMarginal'] * xSUD[j][i] for i in range(0, len(demand_Sud)) for j in range(7)) + sum(dataNORD[dataNORD.columns[k]]['costMarginal'] * xNORD[k][p] for p in range(0, len(demand_Nord)) for k in range(19))\n",
    "\n",
    "\n",
    "probNew.solve()\n",
    "assert pulp.LpStatus[probNew.solve()] == 'Optimal'\n"
   ]
  },
  {
   "cell_type": "code",
   "execution_count": 36,
   "metadata": {},
   "outputs": [
    {
     "name": "stdout",
     "output_type": "stream",
     "text": [
      "Pmin           -100\n",
      "Pmax            100\n",
      "durationMIN       0\n",
      "costMarginal      0\n",
      "costStartUp       0\n",
      "Name: importSud, dtype: int64\n"
     ]
    }
   ],
   "source": [
    "print(dataNORD[dataNORD.columns[18]])"
   ]
  },
  {
   "cell_type": "markdown",
   "metadata": {},
   "source": [
    "### Reste à faire : \n",
    "\n",
    "Cost Start UP - ?\n",
    "\n",
    "On / Off -> ne peut pas changer de statut en moins de ... heures (dyration)\n",
    "\n",
    "import -> importN = - importS"
   ]
  },
  {
   "cell_type": "markdown",
   "metadata": {},
   "source": [
    "## Results"
   ]
  },
  {
   "cell_type": "code",
   "execution_count": 39,
   "metadata": {},
   "outputs": [
    {
     "data": {
      "text/plain": [
       "[<matplotlib.lines.Line2D at 0x1adc1202ac0>,\n",
       " <matplotlib.lines.Line2D at 0x1adc1202bb0>,\n",
       " <matplotlib.lines.Line2D at 0x1adc1202c70>,\n",
       " <matplotlib.lines.Line2D at 0x1adc1202d30>,\n",
       " <matplotlib.lines.Line2D at 0x1adc1202df0>,\n",
       " <matplotlib.lines.Line2D at 0x1adc1202d90>,\n",
       " <matplotlib.lines.Line2D at 0x1adc1202e50>,\n",
       " <matplotlib.lines.Line2D at 0x1adc1202f70>,\n",
       " <matplotlib.lines.Line2D at 0x1adc1202fd0>]"
      ]
     },
     "execution_count": 39,
     "metadata": {},
     "output_type": "execute_result"
    },
    {
     "data": {
      "image/png": "[encoded data removed]",
      "text/plain": [
       "<Figure size 432x288 with 1 Axes>"
      ]
     },
     "metadata": {
      "needs_background": "light"
     },
     "output_type": "display_data"
    }
   ],
   "source": [
    "res_x1_1 = [pulp.value(xSUD[0][i]) for i in range(0, len(demand_Sud))]\n",
    "res_x1_2 = [pulp.value(xSUD[1][i]) for i in range(0, len(demand_Sud))]\n",
    "res_x1_3 = [pulp.value(xSUD[2][i]) for i in range(0, len(demand_Sud))]\n",
    "res_x1_4 = [pulp.value(xSUD[3][i]) for i in range(0, len(demand_Sud))]\n",
    "res_x1_5 = [pulp.value(xSUD[4][i]) for i in range(0, len(demand_Sud))]\n",
    "res_x1_6 = [pulp.value(xSUD[5][i]) for i in range(0, len(demand_Sud))]\n",
    "res_x1_7 = [pulp.value(xSUD[6][i]) for i in range(0, len(demand_Sud))]\n",
    "res_x1_8 = [pulp.value(xSUD[7][i]) for i in range(0, len(demand_Sud))]\n",
    "\n",
    "res_x2_1 = [pulp.value(xNORD[0][i]) for i in range(0, len(demand_Nord))]\n",
    "res_x2_2 = [pulp.value(xNORD[1][i]) for i in range(0, len(demand_Nord))]\n",
    "res_x2_3 = [pulp.value(xNORD[2][i]) for i in range(0, len(demand_Nord))]\n",
    "res_x2_4 = [pulp.value(xNORD[3][i]) for i in range(0, len(demand_Nord))]\n",
    "res_x2_5 = [pulp.value(xNORD[4][i]) for i in range(0, len(demand_Nord))]\n",
    "res_x2_6 = [pulp.value(xNORD[5][i]) for i in range(0, len(demand_Nord))]\n",
    "res_x2_7 = [pulp.value(xNORD[6][i]) for i in range(0, len(demand_Nord))]\n",
    "res_x2_8 = [pulp.value(xNORD[7][i]) for i in range(0, len(demand_Nord))]\n",
    "#res_x1_2 = [pulp.value(xSUD[2][i]) for i in range(0, len(demand_Sud))]\n",
    "\"\"\"\n",
    "res_x1_2 = [pulp.value(x1_2[i]) for i in range(0, len(demand_Sud))]\n",
    "res_x1_3 = [pulp.value(x1_3[i]) for i in range(0, len(demand_Sud))]\n",
    "res_x1_4 = [pulp.value(x1_4[i]) for i in range(0, len(demand_Sud))]\n",
    "res_x1_5 = [pulp.value(x1_5[i]) for i in range(0, len(demand_Sud))]\n",
    "\n",
    "res_x2_1 = [pulp.value(x2_1[i]) for i in range(0, len(demand_Nord))]\n",
    "res_x2_2 = [pulp.value(x2_2[i]) for i in range(0, len(demand_Nord))]\n",
    "res_x2_3 = [pulp.value(x2_3[i]) for i in range(0, len(demand_Nord))]\n",
    "res_x2_3 = [pulp.value(x2_4[i]) for i in range(0, len(demand_Nord))]\n",
    "\n",
    "\"\"\"\n",
    "\n",
    "#plt.plot(demand,'b')\n",
    "#plt.plot(demand_Sud, 'b', res_x1_1, 'r', res_x1_2, 'g', res_x1_3, 'y', res_x1_4, 'ro', \n",
    " #        res_x1_5, 'bo', res_x1_6, 'yo', res_x1_7, 'b--', res_x1_8, 'r--')\n",
    "\n",
    "\n",
    "plt.plot(demand_Nord, 'b', res_x2_1, 'r', res_x2_2, 'g', res_x2_3, 'y', res_x2_4, 'ro', \n",
    "         res_x2_5, 'bo', res_x2_6, 'yo', res_x2_7, 'b--', res_x2_8, 'r--')\n",
    "\n"
   ]
  },
  {
   "cell_type": "code",
   "execution_count": 12,
   "metadata": {},
   "outputs": [],
   "source": [
    "def elec_plan_graphique(usage_ran_x, usage_ran_y, demande):\n",
    "    ax = plt.axes(frameon=False, aspect=1)\n",
    "    plt.xlim(-.2, 5*usage_ran_x), plt.ylim(0, 5*usage_ran_y)\n",
    "    x = np.arange(10)\n",
    "    y = np.arange(10)\n",
    "    plt.plot (demande - x, 'g')\n",
    "    plt.axvline (x=usage_ran_x, ymin=0, ymax=5*usage_ran_y)\n",
    "    plt.axhline (y=usage_ran_y)\n",
    "    #plt.plot (demande - y, 'g')\n",
    "    plt.fill_between(x, demande - x, color='g', alpha=0.2)\n",
    "    plt.fill_between(x, usage_ran_y, color='b', alpha=0.2)\n",
    "    plt.axvspan(0, usage_ran_x, color='b', alpha=0.2)\n",
    "    #plt.fill_between(x, (8 - 2*x), 8 + 0*x, color='g', alpha=0.2)\n"
   ]
  },
  {
   "cell_type": "code",
   "execution_count": 13,
   "metadata": {},
   "outputs": [
    {
     "data": {
      "text/plain": [
       "[<matplotlib.lines.Line2D at 0x1dbb8fe7160>]"
      ]
     },
     "execution_count": 13,
     "metadata": {},
     "output_type": "execute_result"
    },
    {
     "data": {
      "image/png": "[encoded data removed]",
      "text/plain": [
       "<Figure size 432x288 with 1 Axes>"
      ]
     },
     "metadata": {
      "needs_background": "light"
     },
     "output_type": "display_data"
    }
   ],
   "source": [
    "elec_plan_graphique(min_usage_range_x, min_usage_range_y, demande)\n",
    "plt.plot([x.value()], [y.value()], 'ro')\n",
    "#plt.plot (demande - x, 'g')"
   ]
  },
  {
   "cell_type": "code",
   "execution_count": 14,
   "metadata": {},
   "outputs": [
    {
     "name": "stdout",
     "output_type": "stream",
     "text": [
      "[0 1 2 3 4 5 6 7 8 9]\n"
     ]
    },
    {
     "data": {
      "image/png": "[encoded data removed]",
      "text/plain": [
       "<Figure size 432x288 with 1 Axes>"
      ]
     },
     "metadata": {
      "needs_background": "light"
     },
     "output_type": "display_data"
    }
   ],
   "source": [
    "x = np.arange(10)\n",
    "plt.plot (demande - x, 'g')\n",
    "print(x)"
   ]
  },
  {
   "cell_type": "markdown",
   "metadata": {},
   "source": [
    "## Satisfy the demand on a 24 hour plan\n",
    "\n",
    "Now extend your code to provide a plan of providers usage on a full day, hour by hour, based on a demand itself expressed hour by hour.\n",
    "Be sure to provide a relevant visualisation of the results once they are correct.  "
   ]
  },
  {
   "cell_type": "code",
   "execution_count": 29,
   "metadata": {},
   "outputs": [
    {
     "name": "stdout",
     "output_type": "stream",
     "text": [
      "24\n",
      "20\n"
     ]
    },
    {
     "data": {
      "text/plain": [
       "[<matplotlib.lines.Line2D at 0x1dbb925ac10>]"
      ]
     },
     "execution_count": 29,
     "metadata": {},
     "output_type": "execute_result"
    },
    {
     "data": {
      "image/png": "[encoded data removed]",
      "text/plain": [
       "<Figure size 432x288 with 1 Axes>"
      ]
     },
     "metadata": {
      "needs_background": "light"
     },
     "output_type": "display_data"
    }
   ],
   "source": [
    "# demand expressed hour by hour\n",
    "demand = [20, 20, 20 , 30, 40, 40 , 120, 120,\n",
    "        150, 300, 300, 300, 300, 500, 500, 300,\n",
    "        200, 200, 200, 400, 400, 500, 400, 100 ] # change the values so they are relevant to yours\n",
    "\n",
    "print(len(demand))\n",
    "print(demand[2])\n",
    "\n",
    "# a simple graphical visualisation of the demand\n",
    "plt.plot(demand,'b')"
   ]
  },
  {
   "cell_type": "code",
   "execution_count": 39,
   "metadata": {},
   "outputs": [
    {
     "name": "stdout",
     "output_type": "stream",
     "text": [
      "0\n",
      "1\n",
      "2\n",
      "3\n",
      "4\n",
      "5\n",
      "6\n",
      "7\n",
      "8\n",
      "9\n",
      "10\n",
      "11\n",
      "12\n",
      "13\n",
      "14\n",
      "15\n",
      "16\n",
      "17\n",
      "18\n",
      "19\n",
      "20\n",
      "21\n",
      "22\n",
      "23\n"
     ]
    },
    {
     "ename": "AssertionError",
     "evalue": "",
     "output_type": "error",
     "traceback": [
      "\u001b[1;31m---------------------------------------------------------------------------\u001b[0m",
      "\u001b[1;31mAssertionError\u001b[0m                            Traceback (most recent call last)",
      "\u001b[1;32m<ipython-input-39-10409a53a46b>\u001b[0m in \u001b[0;36m<module>\u001b[1;34m\u001b[0m\n\u001b[0;32m     27\u001b[0m \u001b[1;33m\u001b[0m\u001b[0m\n\u001b[0;32m     28\u001b[0m \u001b[0mprob\u001b[0m \u001b[1;33m+=\u001b[0m \u001b[0msum\u001b[0m\u001b[1;33m(\u001b[0m\u001b[0mcost_x\u001b[0m \u001b[1;33m*\u001b[0m \u001b[0mx\u001b[0m\u001b[1;33m[\u001b[0m\u001b[0mi\u001b[0m\u001b[1;33m]\u001b[0m \u001b[1;33m+\u001b[0m \u001b[0mcost_y\u001b[0m \u001b[1;33m*\u001b[0m \u001b[0my\u001b[0m\u001b[1;33m[\u001b[0m\u001b[0mi\u001b[0m\u001b[1;33m]\u001b[0m \u001b[1;32mfor\u001b[0m \u001b[0mi\u001b[0m \u001b[1;32min\u001b[0m \u001b[0mrange\u001b[0m\u001b[1;33m(\u001b[0m\u001b[1;36m0\u001b[0m\u001b[1;33m,\u001b[0m \u001b[0mlen\u001b[0m\u001b[1;33m(\u001b[0m\u001b[0mdemand\u001b[0m\u001b[1;33m)\u001b[0m\u001b[1;33m)\u001b[0m\u001b[1;33m)\u001b[0m\u001b[1;33m\u001b[0m\u001b[1;33m\u001b[0m\u001b[0m\n\u001b[1;32m---> 29\u001b[1;33m \u001b[1;32massert\u001b[0m \u001b[0mpulp\u001b[0m\u001b[1;33m.\u001b[0m\u001b[0mLpStatus\u001b[0m\u001b[1;33m[\u001b[0m\u001b[0mprob\u001b[0m\u001b[1;33m.\u001b[0m\u001b[0msolve\u001b[0m\u001b[1;33m(\u001b[0m\u001b[1;33m)\u001b[0m\u001b[1;33m]\u001b[0m \u001b[1;33m==\u001b[0m \u001b[1;34m'Optimal'\u001b[0m\u001b[1;33m\u001b[0m\u001b[1;33m\u001b[0m\u001b[0m\n\u001b[0m\u001b[0;32m     30\u001b[0m \u001b[1;33m\u001b[0m\u001b[0m\n\u001b[0;32m     31\u001b[0m \u001b[0mres_x\u001b[0m \u001b[1;33m=\u001b[0m \u001b[1;33m[\u001b[0m\u001b[0mpulp\u001b[0m\u001b[1;33m.\u001b[0m\u001b[0mvalue\u001b[0m\u001b[1;33m(\u001b[0m\u001b[0mx\u001b[0m\u001b[1;33m[\u001b[0m\u001b[0mi\u001b[0m\u001b[1;33m]\u001b[0m\u001b[1;33m)\u001b[0m \u001b[1;32mfor\u001b[0m \u001b[0mi\u001b[0m \u001b[1;32min\u001b[0m \u001b[0mrange\u001b[0m\u001b[1;33m(\u001b[0m\u001b[1;36m0\u001b[0m\u001b[1;33m,\u001b[0m \u001b[0mlen\u001b[0m\u001b[1;33m(\u001b[0m\u001b[0mdemand\u001b[0m\u001b[1;33m)\u001b[0m\u001b[1;33m)\u001b[0m\u001b[1;33m]\u001b[0m\u001b[1;33m\u001b[0m\u001b[1;33m\u001b[0m\u001b[0m\n",
      "\u001b[1;31mAssertionError\u001b[0m: "
     ]
    }
   ],
   "source": [
    "# your problem solving code here\n",
    "prob = pulp.LpProblem(\"balanceTest\", pulp.LpMinimize)\n",
    "\n",
    "min_usage_range_x = 0\n",
    "min_usage_range_y = 10\n",
    "max_usage_range_x = 100\n",
    "max_usage_range_y = 400\n",
    "\n",
    "#demande = 10\n",
    "c = 0\n",
    "cost_x = 50\n",
    "cost_y = 100\n",
    "\n",
    "\n",
    "\n",
    "x = [pulp.LpVariable(f\"x_{i}\", min_usage_range_x, max_usage_range_x) for i in range(0, len(demand))] # cat continuous is the default, override it with integer \n",
    "y = [pulp.LpVariable(f\"y_{i}\", min_usage_range_y, min_usage_range_y) for i in range(0, len(demand))] # this is the only change to go from LP to MILP\n",
    "\n",
    "for i in range(0, len(demand)):\n",
    "    print(i)\n",
    "    prob += x[i] <= max_usage_range_x\n",
    "    prob += y[i] <= max_usage_range_y\n",
    "    prob += x[i] >= min_usage_range_x\n",
    "    prob += y[i] >= min_usage_range_y\n",
    "    prob += x[i] + y[i] >= demand[i]\n",
    "   \n",
    "\n",
    "prob += sum(cost_x * x[i] + cost_y * y[i] for i in range(0, len(demand)))\n",
    "assert pulp.LpStatus[prob.solve()] == 'Optimal'\n",
    "\n",
    "res_x = [pulp.value(x[i]) for i in range(0, len(demand))]\n",
    "res_y = [pulp.value(y[i]) for i in range(0, len(demand))]\n",
    "\n",
    "#plt.plot(demand,'b')\n",
    "plt.plot(demand, 'b')\n",
    "plt.plot(res_x, 'r')\n",
    "plt.plot(res_y, 'g')"
   ]
  },
  {
   "cell_type": "code",
   "execution_count": null,
   "metadata": {},
   "outputs": [],
   "source": []
  },
  {
   "cell_type": "code",
   "execution_count": 40,
   "metadata": {},
   "outputs": [],
   "source": [
    "# %load solutions\\24h.py\n",
    "# a solution :\n",
    "# minimisation problem\n",
    "tprob = pulp.LpProblem(\"Test\",pulp.LpMinimize)\n",
    "\n",
    "# constants\n",
    "p1min=0\n",
    "p1max=100\n",
    "c1=50\n",
    "p2min=10\n",
    "p2max=400\n",
    "c2=100\n",
    "\n",
    "# variables\n",
    "p1=[pulp.LpVariable(f\"p1_{t}\",p1min,p1max) for t in range(0,24)]\n",
    "p2=[pulp.LpVariable(f\"p2_{t}\",p2min,p2max) for t in range(0,24)]\n",
    "#capa=[pulp.LpVariable(f\"capa_$t\") for t in range(0,24)]\n",
    "\n",
    "# constraints\n",
    "for t in range(0,24):\n",
    "    tprob+=p1[t]>=p1min\n",
    "    tprob+=p1[t]<=p1max\n",
    "    tprob+=p2[t]>=p2min\n",
    "    tprob+=p2[t]<=p2max\n",
    "    \n",
    "    tprob+=p1[t]+p2[t]>=demand[t]\n",
    "    \n",
    "# objective\n",
    "tprob+=sum([p1[t]*c1 + p2[t]*c2 for t in range(0,24)])\n",
    "\n",
    "assert pulp.LpStatus[tprob.solve()] == 'Optimal'\n",
    "\n"
   ]
  },
  {
   "cell_type": "code",
   "execution_count": 41,
   "metadata": {},
   "outputs": [],
   "source": [
    "# your results display code here\n"
   ]
  },
  {
   "cell_type": "code",
   "execution_count": 42,
   "metadata": {},
   "outputs": [
    {
     "data": {
      "text/plain": [
       "[<matplotlib.lines.Line2D at 0x1dbb92e0700>]"
      ]
     },
     "execution_count": 42,
     "metadata": {},
     "output_type": "execute_result"
    },
    {
     "data": {
      "image/png": "[encoded data removed]",
      "text/plain": [
       "<Figure size 432x288 with 1 Axes>"
      ]
     },
     "metadata": {
      "needs_background": "light"
     },
     "output_type": "display_data"
    }
   ],
   "source": [
    "# %load solutions\\24hdisp.py\n",
    "\n",
    "# a solution\n",
    "p1res=[pulp.value(p1[t]) for t in range(0,24)]\n",
    "p2res=[pulp.value(p2[t]) for t in range(0,24)]\n",
    "\n",
    "plt.plot(demand,'b')\n",
    "plt.plot(p1res,'g')\n",
    "plt.plot(p2res,'r')"
   ]
  },
  {
   "cell_type": "markdown",
   "metadata": {},
   "source": [
    "## Add the opportunity to totally stop any provider\n",
    "\n",
    "Now let's imagine that any provider may be stopped: if 'on' it produces an amount of energy between its min and max, if 'off' it produces 0."
   ]
  },
  {
   "cell_type": "code",
   "execution_count": 43,
   "metadata": {},
   "outputs": [],
   "source": [
    "# your code here\n"
   ]
  },
  {
   "cell_type": "code",
   "execution_count": 45,
   "metadata": {},
   "outputs": [
    {
     "data": {
      "text/plain": [
       "[<matplotlib.lines.Line2D at 0x1dbb9034e20>]"
      ]
     },
     "execution_count": 45,
     "metadata": {},
     "output_type": "execute_result"
    },
    {
     "data": {
      "image/png": "[encoded data removed]",
      "text/plain": [
       "<Figure size 432x288 with 1 Axes>"
      ]
     },
     "metadata": {
      "needs_background": "light"
     },
     "output_type": "display_data"
    }
   ],
   "source": [
    "# %load solutions\\24honoff.py\n",
    "# a solution :\n",
    "# minimisation problem\n",
    "tprob = pulp.LpProblem(\"Test\",pulp.LpMinimize)\n",
    "\n",
    "# constants\n",
    "p1min=0\n",
    "p1max=100\n",
    "c1=50\n",
    "p2min=10\n",
    "p2max=400\n",
    "c2=100\n",
    "\n",
    "# variables\n",
    "\n",
    "## production\n",
    "p1=[pulp.LpVariable(f\"p1_{t}\",0,p1max) for t in range(0,24)]\n",
    "p2=[pulp.LpVariable(f\"p2_{t}\",0,p2max) for t in range(0,24)]\n",
    "\n",
    "## on/off\n",
    "on1=[pulp.LpVariable(f\"on1_{t}\",cat=pulp.LpBinary) for t in range(0,24)]\n",
    "on2=[pulp.LpVariable(f\"on2_{t}\",cat=pulp.LpBinary) for t in range(0,24)]\n",
    "\n",
    "\n",
    "# constraints\n",
    "for t in range(0,24):\n",
    "    tprob+=p1[t]>=p1min*on1[t] # if 'on' produce at least min\n",
    "    tprob+=p1[t]<=p1max*on1[t] # if 'on' produce at most max, if 'off' produce 0 \n",
    "    tprob+=p2[t]>=p2min*on2[t]\n",
    "    tprob+=p2[t]<=p2max*on2[t]\n",
    "    \n",
    "    tprob+=p1[t]+p2[t]>=demand[t]\n",
    "    \n",
    "# objective\n",
    "tprob+=sum([p1[t]*c1 + p2[t]*c2 for t in range(0,24)])\n",
    "\n",
    "\n",
    "# display\n",
    "assert pulp.LpStatus[tprob.solve()] == 'Optimal'\n",
    "p1res=[pulp.value(p1[t]) for t in range(0,24)]\n",
    "p2res=[pulp.value(p2[t]) for t in range(0,24)]\n",
    "\n",
    "plt.plot(demand,'b')\n",
    "plt.plot(p1res,'g')\n",
    "plt.plot(p2res,'r')"
   ]
  },
  {
   "cell_type": "markdown",
   "metadata": {},
   "source": [
    "## Modelling a battery effect\n",
    "\n",
    "If our first provider is turned into a perfect battery (no loss during charging : every excess unit provided is stored until full capacity is reached, no loss when unused)"
   ]
  },
  {
   "cell_type": "code",
   "execution_count": null,
   "metadata": {},
   "outputs": [],
   "source": [
    "# your code here\n"
   ]
  },
  {
   "cell_type": "code",
   "execution_count": 47,
   "metadata": {},
   "outputs": [
    {
     "name": "stdout",
     "output_type": "stream",
     "text": [
      "Total cost is 561000.0\n"
     ]
    },
    {
     "data": {
      "image/png": "[encoded data removed]",
      "text/plain": [
       "<Figure size 1080x648 with 2 Axes>"
      ]
     },
     "metadata": {
      "needs_background": "light"
     },
     "output_type": "display_data"
    }
   ],
   "source": [
    "# %load solutions\\24hbattery.py\n",
    "# if p1 is a perfect battery\n",
    "\n",
    "# a solution :\n",
    "# minimisation problem\n",
    "tprob = pulp.LpProblem(\"Test\",pulp.LpMinimize)\n",
    "\n",
    "# constants\n",
    "capamax=200 # max capacity of the battery\n",
    "p1min,p1max=0,100 # production range\n",
    "c1=50 # cost per unit\n",
    "\n",
    "p2min,p2max=10,400\n",
    "c2=100\n",
    "\n",
    "\n",
    "# variables\n",
    "## production\n",
    "p1=[pulp.LpVariable(f\"p1_{t}\",0,p1max) for t in range(0,24)]\n",
    "p2=[pulp.LpVariable(f\"p2_{t}\",0,p2max) for t in range(0,24)]\n",
    "\n",
    "## on/off\n",
    "on1=[pulp.LpVariable(f\"on1_{t}\",cat=pulp.LpBinary) for t in range(0,24)]\n",
    "on2=[pulp.LpVariable(f\"on2_{t}\",cat=pulp.LpBinary) for t in range(0,24)]\n",
    "\n",
    "## battery load\n",
    "p1load=[pulp.LpVariable(f\"p1load_{t}\",0,capamax) for t in range(0,24)]\n",
    "\n",
    "\n",
    "# constraints\n",
    "p1load[0]=0 # let's start empty\n",
    "# p1load[0]=capamax # let's start full\n",
    "\n",
    "for t in range(0,24):\n",
    "    tprob+=p1[t]>=p1min*on1[t]\n",
    "    tprob+=p1[t]<=p1max*on1[t]\n",
    "    tprob+=p2[t]>=p2min*on2[t]\n",
    "    tprob+=p2[t]<=p2max*on2[t]\n",
    "    \n",
    "    tprob+=p1[t]<=p1load[t] # can not provide more than available\n",
    "    tprob+=p1[t]+p2[t]>=demand[t] # must satify demand\n",
    "\n",
    "for t in range(1,24): # load level beginning a step is based on the previous one\n",
    "    tprob+=p1load[t]==p1load[t-1]-p1[t-1]+(p1[t-1]+p2[t-1]-demand[t-1])\n",
    "\n",
    "    \n",
    "# objective\n",
    "tprob+=sum([p1[t]*c1 + p2[t]*c2 for t in range(0,24)])\n",
    "\n",
    "\n",
    "# display\n",
    "from matplotlib import gridspec\n",
    "\n",
    "assert pulp.LpStatus[tprob.solve()] == 'Optimal'\n",
    "p1res=[pulp.value(p1[t]) for t in range(0,24)]\n",
    "p2res=[pulp.value(p2[t]) for t in range(0,24)]\n",
    "ptot=[p1res[t]+p2res[t] for t in range (0,24)]\n",
    "p1al=[pulp.value(p1load[t]) for t in range(0,24)]\n",
    "\n",
    "# display results\n",
    "fig=plt.figure(figsize=(15, 9))\n",
    "spec=gridspec.GridSpec(ncols=1,nrows=2,height_ratios=[2,1])\n",
    "\n",
    "# display demand and production rates\n",
    "fig.add_subplot(spec[0,0])\n",
    "plt.plot(demand,'k', linewidth=2.0,drawstyle='steps',label=\"demand\")\n",
    "\n",
    "plt.plot(p1res,'g',linewidth=1.0,drawstyle='steps',label=\"battery production\")\n",
    "plt.plot(p2res,'r',linewidth=1.0,drawstyle='steps',label=\"dispatchable production\")\n",
    "\n",
    "plt.plot(ptot,linewidth=1.0,drawstyle='steps',c='b',linestyle='--',zorder=2, label=\"total production\")\n",
    "plt.fill_between(range(0,24), demand, ptot, step='pre', alpha=0.2, label=\"in excess production/charging\")\n",
    "plt.legend()\n",
    "\n",
    "\n",
    "# display battery load\n",
    "fig.add_subplot(spec[1,0])\n",
    "plt.bar(range(0,24),p1al,label=\"battery load level\")\n",
    "plt.legend()\n",
    "\n",
    "print(f\"Total cost is {pulp.value(tprob.objective)}\")\n"
   ]
  },
  {
   "cell_type": "markdown",
   "metadata": {},
   "source": [
    "## Constraining on/off sequence"
   ]
  },
  {
   "cell_type": "markdown",
   "metadata": {
    "collapsed": true
   },
   "source": [
    "<div class=\"alert alert-warning\">\n",
    "<b>Planning a week of electric production</b>\n",
    "<p>\n",
    "An electric utility company owns two power plants.<br/> The first plant can power no less than 50 and up to 400 MW for a production cost of 20€/MWh.<br/> The second plant can power no less than 20 and up to 200 MW for a production cost of 40€/MWh.<br/> An additional constraints states that a power plan, when powered on, must keep on for at least two consecutive hours.\n",
    "</p><p>\n",
    "The power plants must meet an electric demand during a week provided in an attached file (one line per hour).\n",
    "</p>\n",
    "\n",
    "</div>"
   ]
  },
  {
   "cell_type": "code",
   "execution_count": 48,
   "metadata": {},
   "outputs": [
    {
     "data": {
      "image/png": "[encoded data removed]",
      "text/plain": [
       "<Figure size 432x288 with 1 Axes>"
      ]
     },
     "metadata": {
      "needs_background": "light"
     },
     "output_type": "display_data"
    }
   ],
   "source": [
    "demand = np.loadtxt(\"demand.txt\")\n",
    "plt.plot(demand, 'r')\n",
    "\n",
    "costs = np.array([20, 40])\n",
    "power_max = np.array([400, 200])\n",
    "power_min = np.array([50, 20])"
   ]
  },
  {
   "cell_type": "code",
   "execution_count": null,
   "metadata": {},
   "outputs": [],
   "source": [
    "# your code here"
   ]
  },
  {
   "cell_type": "code",
   "execution_count": null,
   "metadata": {},
   "outputs": [],
   "source": [
    "# %load solutions\\weekplan.py\n",
    "# minimisation problem\n",
    "tprob = pulp.LpProblem(\"Week\",pulp.LpMinimize)\n",
    "\n",
    "# constants\n",
    "p1min,p2min=power_min\n",
    "p1max,p2max=power_max\n",
    "c1,c2=costs\n",
    "nbsteps=len(demand)\n",
    "\n",
    "# variables\n",
    "\n",
    "## production\n",
    "p1=[pulp.LpVariable(f\"p1_{t}\",0,p1max) for t in range(0,nbsteps)]\n",
    "p2=[pulp.LpVariable(f\"p2_{t}\",0,p2max) for t in range(0,nbsteps)]\n",
    "\n",
    "## on/off\n",
    "on1=[pulp.LpVariable(f\"on1_{t}\",cat=pulp.LpBinary) for t in range(0,nbsteps)]\n",
    "on2=[pulp.LpVariable(f\"on2_{t}\",cat=pulp.LpBinary) for t in range(0,nbsteps)]\n",
    "\n",
    "\n",
    "# constraints\n",
    "for t in range(0,nbsteps):\n",
    "    tprob+=p1[t]>=p1min*on1[t] # if 'on' produce at least min\n",
    "    tprob+=p1[t]<=p1max*on1[t] # if 'on' produce at most max, if 'off' produce 0 \n",
    "    tprob+=p2[t]>=p2min*on2[t]\n",
    "    tprob+=p2[t]<=p2max*on2[t]\n",
    "    \n",
    "    tprob+=p1[t]+p2[t]>=demand[t]\n",
    "    \n",
    "for t in range(1,nbsteps-1):\n",
    "    tprob+=on1[t]<=on1[t-1]+on1[t+1]\n",
    "    tprob+=on2[t]<=on2[t-1]+on2[t+1]\n",
    "    \n",
    "# objective\n",
    "tprob+=sum([p1[t]*c1 + p2[t]*c2 for t in range(0,nbsteps)])\n",
    "\n",
    "\n",
    "# display\n",
    "assert pulp.LpStatus[tprob.solve()] == 'Optimal'\n",
    "p1res=[pulp.value(p1[t]) for t in range(0,nbsteps)]\n",
    "p2res=[pulp.value(p2[t]) for t in range(0,nbsteps)]\n",
    "\n",
    "plt.plot(demand,'b')\n",
    "plt.plot(p1res,'g')\n",
    "plt.plot(p2res,'r')"
   ]
  },
  {
   "cell_type": "markdown",
   "metadata": {},
   "source": [
    "# Choosing your project\n",
    "\n",
    "Now its up to you to make the problem evolves and become your project. To extend the problem, several options are welcome :\n",
    "\n",
    "- make the problem definition more realistic,\n",
    "- move on to devising the best energy production items,\n",
    "- ...\n",
    "\n",
    "Remember that MILP is not the only technique you should be aware of, and depending on your choices, may not be the best one to implement your version of the problem. Constraint Programming or metaheuristics may be best suited to it. Other notebooks are provided to help you discover or rediscover those techniques and associated tools. Be sure to make a good, arguable choice to implement your version of the problem. "
   ]
  }
 ],
 "metadata": {
  "kernelspec": {
   "display_name": "Python 3",
   "language": "python",
   "name": "python3"
  },
  "language_info": {
   "codemirror_mode": {
    "name": "ipython",
    "version": 3
   },
   "file_extension": ".py",
   "mimetype": "text/x-python",
   "name": "python",
   "nbconvert_exporter": "python",
   "pygments_lexer": "ipython3",
   "version": "3.8.3"
  }
 },
 "nbformat": 4,
 "nbformat_minor": 2
}
